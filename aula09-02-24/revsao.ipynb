{
 "cells": [
  {
   "attachments": {},
   "cell_type": "markdown",
   "metadata": {},
   "source": [
    "1. Manipulação de Dados e Estruturas de Dados\n",
    "2. Trabalhando com Strings e Operações Condicionais\n",
    "3. Controle de Fluxo e Arquivos"
   ]
  },
  {
   "attachments": {},
   "cell_type": "markdown",
   "metadata": {},
   "source": [
    "## Exercício 1: Dicionários e Dados Mutáveis\n",
    "\n",
    "Problema: Dada uma lista de tuplas onde a primeira entrada de cada tupla é um nome de produto e a segunda é a quantidade vendida, escreva um programa que converta essa lista em um dicionário. Se o nome do produto já existir no dicionário, atualize sua quantidade somando a quantidade da tupla. No final, imprima o dicionário de produtos com suas quantidades totais.\n",
    "\n",
    "Exemplo de Entrada: [('maçã', 10), ('banana', 5), ('maçã', 20), ('laranja', 5)]\n",
    "\n",
    "Exemplo de Saída: {'maçã': 30, 'banana': 5, 'laranja': 5}"
   ]
  },
  {
   "cell_type": "code",
   "execution_count": null,
   "metadata": {},
   "outputs": [],
   "source": [
    "# Sua resposta aqui\n",
    "frutas = {(\"maçã\", 10), ('banana',5), (\"maçã\",20), (\"laranja\",5)}\n",
    "\n",
    "meus_produtos={}\n",
    "\n",
    "for i,j in frutas:\n",
    "    if i in meus_produtos:\n",
    "        meus_produtos[i] += j\n",
    "    else:\n",
    "        meus_produtos[i]= j\n",
    "\n",
    "print(meus_produtos)\n"
   ]
  },
  {
   "attachments": {},
   "cell_type": "markdown",
   "metadata": {},
   "source": [
    "\n",
    "## Exercício 2: Fatiamento de Strings e Expressões Booleanas\n",
    "\n",
    "Problema: Escreva uma função que receba uma string e retorne True se a string for um palíndromo (ignorando espaços, pontuações e capitalização) e False caso contrário. Utilize fatiamento de strings e expressões booleanas para sua solução.\n",
    "\n",
    "Exemplo de Entrada: \"A man, a plan, a canal: Panama\"\n",
    "\n",
    "Exemplo de Saída: True\n",
    "\n",
    "\n",
    "OBS: Palíndromo é frase ou palavra que se pode ler, indiferentemente, da esquerda para direita ou vice-versa, por exemplo: osso, Ana, radar, Renner, Roma é amor, orava o avaro, socorram-me subi no ônibus em Marrocos"
   ]
  },
  {
   "cell_type": "code",
   "execution_count": 26,
   "metadata": {},
   "outputs": [],
   "source": [
    "# Sua resposta aqui"
   ]
  },
  {
   "attachments": {},
   "cell_type": "markdown",
   "metadata": {},
   "source": [
    "## Exercício 4: break e continue\n",
    "\n",
    "Problema: Escreva um programa que itere sobre números de 1 a 100. Para cada número, se o número for divisível por 3, imprima \"Fizz\". Se for divisível por 5, imprima \"Buzz\". Se for divisível por ambos, imprima \"FizzBuzz\". Use break para terminar o loop se algum número divisível por 3 e 5 for maior que 50. Use continue para pular números ímpares.\n",
    "\n",
    "Exemplo de Saída: 1, 2, Fizz, 4, Buzz, Fizz, ..., Buzz, Fizz, 49, Buzz, FizzBuzz"
   ]
  },
  {
   "cell_type": "code",
   "execution_count": null,
   "metadata": {},
   "outputs": [],
   "source": [
    "## Suas respostas aqui"
   ]
  },
  {
   "attachments": {},
   "cell_type": "markdown",
   "metadata": {},
   "source": [
    "## Exercício 5: Escrevendo em Arquivos\n",
    "\n",
    "Problema: Escreva um programa que gere um arquivo de log. Para cada segundo, o programa deve escrever a hora atual no arquivo de log até que 10 entradas sejam registradas. Use o módulo time para obter a hora atual e faça uma pausa de um segundo entre as entradas usando time.sleep(1).\n",
    "\n",
    "\n",
    "Exemplo de Saída no Arquivo de Log:\n",
    "```\n",
    "09-02-2024 12:00:01\n",
    "09-02-2024 12:00:02\n",
    "09-02-2024 12:00:03\n",
    "...\n",
    "```\n"
   ]
  },
  {
   "cell_type": "code",
   "execution_count": null,
   "metadata": {},
   "outputs": [],
   "source": [
    "# Sua resposta aqui\n"
   ]
  },
  {
   "attachments": {},
   "cell_type": "markdown",
   "metadata": {},
   "source": [
    "Escreva uma fução que recebe como parametro duas listas a e b de numeros inteiros. A função deve retornar uma lista contendo os números que são exclusivos para a lista a e para a lista b. Ou seja, a lista retornada não deve conter elementos que estejam presentes em ambas as listas a e b.\n",
    "\n",
    "```\n",
    "#entrada de dados\n",
    "a = [-3, 4, 10, 6, 3, 8, -4, -1]\n",
    "b = [3, 1, 2, -3, 9, 8, -1, -2]\n",
    "\n",
    "\n",
    "# saida esperada\n",
    "[4, 10, 6, -4, 1, 2, 9, -2]\n",
    "\n",
    "\n",
    "```\n"
   ]
  },
  {
   "cell_type": "code",
   "execution_count": null,
   "metadata": {},
   "outputs": [],
   "source": [
    "# Sua resposta aqui"
   ]
  },
  {
   "attachments": {},
   "cell_type": "markdown",
   "metadata": {},
   "source": [
    "Para o trecho de código abaixo, faça uma avaliação do código, essa avaliação deve ser realizada sem o uso de ferramentas computacionais. \n",
    "\n",
    "```\n",
    "def busca(valor, lista):\n",
    "    i = 0\n",
    "    while i < len(lista):\n",
    "        if lista[i] == valor:\n",
    "            return True\n",
    "        i = i + 1\n",
    "\n",
    "    return False\n",
    "\n",
    "def interseccao(listaA, listaB):\n",
    "    intersectado = []\n",
    "    for elemento in listaA:\n",
    "        if busca(elemento, listaB) == True:\n",
    "            intersectado.append(elemento)\n",
    "\n",
    "    return intersectado\n",
    "\n",
    "listA = [1, 6, 4, 8, 3]\n",
    "listB = [10, 8, 0, 3, 7]\n",
    "print(interseccao(listA, listB))\n",
    "\n",
    "```\n",
    "\n",
    "Qual a saida esperada?\n"
   ]
  }
 ],
 "metadata": {
  "kernelspec": {
   "display_name": "Python 3 (ipykernel)",
   "language": "python",
   "name": "python3"
  },
  "language_info": {
   "codemirror_mode": {
    "name": "ipython",
    "version": 3
   },
   "file_extension": ".py",
   "mimetype": "text/x-python",
   "name": "python",
   "nbconvert_exporter": "python",
   "pygments_lexer": "ipython3",
   "version": "3.11.4"
  }
 },
 "nbformat": 4,
 "nbformat_minor": 2
}
